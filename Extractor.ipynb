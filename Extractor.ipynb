{
 "cells": [
  {
   "cell_type": "markdown",
   "metadata": {},
   "source": [
    "# Extraction and Processing of Data from Records of Euler's Pendulum\n",
    "Bottom Up Orthographic Perspective;\n",
    "Camera concentric to rod at equilibrium"
   ]
  },
  {
   "cell_type": "markdown",
   "metadata": {},
   "source": [
    "## Frame Decomposition"
   ]
  },
  {
   "cell_type": "markdown",
   "metadata": {},
   "source": [
    "### Variables: Put the names here"
   ]
  },
  {
   "cell_type": "code",
   "execution_count": null,
   "metadata": {},
   "outputs": [],
   "source": [
    "video_path = '' # Put the full name of the recording to be processed. make sure it is under the same folder in which you are\n",
    "output_directory = '' # Name of the folder to store frame, make VERY sure it is UNDER the same follder in which you are in"
   ]
  },
  {
   "cell_type": "markdown",
   "metadata": {},
   "source": [
    "### Decomposition\n",
    " - Run It."
   ]
  },
  {
   "cell_type": "code",
   "execution_count": null,
   "metadata": {},
   "outputs": [],
   "source": [
    "import cv2, os\n",
    "\n",
    "if not os.path.exists(output_directory):\n",
    "    os.makedirs(output_directory)\n",
    "\n",
    "video_capture = cv2.VideoCapture(video_path)\n",
    "\n",
    "frame_count = 0\n",
    "\n",
    "while True:\n",
    "    success, frame = video_capture.read()\n",
    "    if not success:\n",
    "        break\n",
    "\n",
    "    output_path = os.path.join(output_directory, f\"frame_{frame_count}.jpg\")\n",
    "    cv2.imwrite(output_path, frame)\n",
    "    frame_count += 1\n",
    "\n",
    "video_capture.release()\n",
    "print(f\"Total frames extracted: {frame_count}\")\n"
   ]
  },
  {
   "cell_type": "markdown",
   "metadata": {},
   "source": [
    "## Check if the mask is applied correctly\n",
    " - Check the other code I shared.\n",
    " - run it\n",
    " - edit the upper_color and lower_color values respectively, if their persists an issue with it. run before editing it."
   ]
  },
  {
   "cell_type": "code",
   "execution_count": null,
   "metadata": {},
   "outputs": [],
   "source": [
    "import numpy as np\n",
    "\n",
    "upper_color = np.array([179, 255, 255]) # Upper limit of HSV\n",
    "lower_color = np.array([28, 6, 122]) # Lower Limit of HSV"
   ]
  },
  {
   "cell_type": "markdown",
   "metadata": {},
   "source": [
    "### Check the Mask... check for a whitish portion visible corresponding to the white section of the rod"
   ]
  },
  {
   "cell_type": "code",
   "execution_count": null,
   "metadata": {},
   "outputs": [],
   "source": [
    "import cv2\n",
    "import numpy as np\n",
    "import matplotlib.pyplot as plt\n",
    "from PIL import ImageFilter, Image\n",
    "img = Image.open(output_directory + '/' + 'frame_1000' )\n",
    "cpr = img.crop(\n",
    "    (200, 500, 900, 1400)\n",
    ")\n",
    "\n",
    "ftd = cpr.filter(ImageFilter.GaussianBlur(radius=0))\n",
    "\n",
    "ftd.save('Chopped.jpg')\n",
    "#image = cv2.imread(cpr)\n",
    "image = cv2.imread('Chopped.jpg')\n",
    "\n",
    "hsv = cv2.cvtColor(image, cv2.COLOR_BGR2HSV)\n",
    "\n",
    "mask = cv2.inRange(hsv, lower_color, upper_color)\n",
    "\n",
    "# Step 5: Apply the mask to extract the region of interest\n",
    "segmented_image = cv2.bitwise_and(image, image, mask=mask)\n",
    "\n",
    "# Show the segmented image\n",
    "fig = plt.figure()\n",
    "fig.add_subplot()\n",
    "plt.imshow(mask)\n",
    "plt.colorbar()"
   ]
  },
  {
   "cell_type": "markdown",
   "metadata": {},
   "source": [
    "## Check if the white section is detected"
   ]
  },
  {
   "cell_type": "code",
   "execution_count": null,
   "metadata": {},
   "outputs": [],
   "source": [
    "from math import sqrt\n",
    "\n",
    "edges = cv2.Canny(mask, 0, 300)\n",
    "lines = cv2.HoughLinesP(edges, 1, np.pi/180, threshold=3, minLineLength=10, maxLineGap=50)\n",
    "\n",
    "highest_line = None\n",
    "highest = 0\n",
    "if lines is not None:\n",
    "    for line in lines:\n",
    "        x1, y1, x2, y2 = line[0]\n",
    "        if sqrt((x2-x1)**2 + (y2-y1)**2) > highest:\n",
    "            highest_line = line\n",
    "            highest = sqrt((x2-x1)**2 + (y2-y1)**2)\n",
    "else:\n",
    "    highest = 0\n",
    "\n",
    "\n",
    "# Draw the highest line on the image\n",
    "if highest_line is not None:\n",
    "    x1, y1, x2, y2 = highest_line[0]\n",
    "    cv2.line(hsv, (x1, y1), (x2, y2), (0, 255, 0), 2)\n",
    "plt.imshow(hsv)\n",
    "print(highest)\n"
   ]
  },
  {
   "cell_type": "markdown",
   "metadata": {},
   "source": [
    "## Track the data - Proceed if everything above works as expected"
   ]
  },
  {
   "cell_type": "code",
   "execution_count": null,
   "metadata": {},
   "outputs": [],
   "source": [
    "import cv2\n",
    "import numpy as np\n",
    "\n",
    "from PIL import ImageFilter\n",
    "\n",
    "output_directory = 'Cap_Frames_01'\n",
    "def track(frame_number):    \n",
    "    img = Image.open(output_directory + '/frame_' + str(frame_number) + '.jpg')\n",
    "    cpr = img.crop(\n",
    "        (200, 500, 900, 1400)\n",
    "    )\n",
    "\n",
    "    ftd = cpr.filter(ImageFilter.GaussianBlur(radius=0))\n",
    "\n",
    "    ftd.save('Chopped.jpg')\n",
    "    #image = cv2.imread(cpr)\n",
    "    image = cv2.imread('Chopped.jpg')\n",
    "\n",
    "    hsv = cv2.cvtColor(image, cv2.COLOR_BGR2HSV)\n",
    "\n",
    "    mask = cv2.inRange(hsv, lower_color, upper_color)\n",
    "\n",
    "    edges = cv2.Canny(mask, 0, 300)\n",
    "    lines = cv2.HoughLinesP(edges, 1, np.pi/180, threshold=3, minLineLength=10, maxLineGap=50)\n",
    "\n",
    "    highest_line = None\n",
    "    highest = 0\n",
    "    if lines is not None:\n",
    "        for line in lines:\n",
    "            x1, y1, x2, y2 = line[0]\n",
    "            if sqrt((x2-x1)**2 + (y2-y1)**2) > highest:\n",
    "                highest_line = line\n",
    "                highest = sqrt((x2-x1)**2 + (y2-y1)**2)\n",
    "    else:\n",
    "        highest = 0\n",
    "\n",
    "    if highest_line is not None:\n",
    "        x1, y1, x2, y2 = highest_line[0]\n",
    "        cv2.line(hsv, (x1, y1), (x2, y2), (0, 255, 0), 2)\n",
    "\n",
    "    return sqrt((330 - x2)**2 + (420 - y2)**2)"
   ]
  },
  {
   "cell_type": "markdown",
   "metadata": {},
   "source": [
    "### Obtain the Displacement"
   ]
  },
  {
   "cell_type": "code",
   "execution_count": null,
   "metadata": {},
   "outputs": [],
   "source": [
    "initial_frame = 1 # Enter the first frame number in the directory"
   ]
  },
  {
   "cell_type": "code",
   "execution_count": null,
   "metadata": {},
   "outputs": [],
   "source": [
    "Deflection_data = np.array([])\n",
    "total_frames = frame_count\n",
    "\n",
    "for i in range(initial_frame, total_frames):\n",
    "    Deflection_data = np.append(Deflection_data, track(i))"
   ]
  },
  {
   "cell_type": "markdown",
   "metadata": {},
   "source": [
    "### Obtain $ \\theta $ from `Deflection_data`"
   ]
  },
  {
   "cell_type": "code",
   "execution_count": null,
   "metadata": {},
   "outputs": [],
   "source": [
    "from math import asin\n",
    "\n",
    "rod_length = None\n",
    "data_01 = np.array([])\n",
    "\n",
    "for i in range(0, len(Deflection_data)):\n",
    "    data_01 = np.append(data_01, asin(Deflection_data[i]/rod_length))"
   ]
  },
  {
   "cell_type": "markdown",
   "metadata": {},
   "source": [
    "### Plot and See..."
   ]
  },
  {
   "cell_type": "code",
   "execution_count": null,
   "metadata": {},
   "outputs": [],
   "source": [
    "import matplotlib.pyplot as plt\n",
    "\n",
    "First = None\n",
    "Last = None\n",
    "\n",
    "plt.scatter(range(First, Last), data_01[First: Last])\n",
    "plt.title('Deflection Theta W.R.T. Frame')\n",
    "plt.xlabel('Frame Number')\n",
    "plt.ylabel('Deflection (Radians)')"
   ]
  },
  {
   "cell_type": "markdown",
   "metadata": {},
   "source": [
    "## Save the obtained data"
   ]
  },
  {
   "cell_type": "code",
   "execution_count": null,
   "metadata": {},
   "outputs": [],
   "source": [
    "file_name = '' # Desired name of the text file in which the data will be put. Create a separate file for each recording you process\n",
    "\n",
    "with open(file_path, 'w') as file:\n",
    "    for i in range(0, len(data_01)):\n",
    "        file.write(str(data_01[i]) + ', ' + '\\n')\n",
    "close(file_name)"
   ]
  },
  {
   "cell_type": "code",
   "execution_count": null,
   "metadata": {},
   "outputs": [],
   "source": []
  }
 ],
 "metadata": {
  "kernelspec": {
   "display_name": "Python 3",
   "language": "python",
   "name": "python3"
  },
  "language_info": {
   "codemirror_mode": {
    "name": "ipython",
    "version": 3
   },
   "file_extension": ".py",
   "mimetype": "text/x-python",
   "name": "python",
   "nbconvert_exporter": "python",
   "pygments_lexer": "ipython3",
   "version": "3.11.3"
  },
  "orig_nbformat": 4
 },
 "nbformat": 4,
 "nbformat_minor": 2
}
